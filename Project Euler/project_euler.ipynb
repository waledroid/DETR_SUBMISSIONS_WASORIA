{
 "cells": [
  {
   "cell_type": "markdown",
   "metadata": {},
   "source": [
    "Find the sum of all the multiples of 3 or 5 below 1000"
   ]
  },
  {
   "cell_type": "code",
   "execution_count": 1,
   "metadata": {},
   "outputs": [
    {
     "name": "stdout",
     "output_type": "stream",
     "text": [
      "233168\n"
     ]
    }
   ],
   "source": [
    "def sum_multiples_3_or_5(limit):\n",
    "    multiples_set = set()\n",
    "\n",
    "    for num in range(3, limit):\n",
    "        if num % 3 == 0 or num % 5 == 0:\n",
    "            multiples_set.add(num)\n",
    "\n",
    "    return sum(multiples_set)\n",
    "\n",
    "# Find the sum of all multiples of 3 or 5 below 1000\n",
    "result = sum_multiples_3_or_5(1000)\n",
    "print(result)"
   ]
  },
  {
   "cell_type": "markdown",
   "metadata": {},
   "source": [
    "Consider the terms in the Fibonacci sequence whose values do not exceed four million, find the sum of the even-valued terms."
   ]
  },
  {
   "cell_type": "code",
   "execution_count": 2,
   "metadata": {},
   "outputs": [
    {
     "name": "stdout",
     "output_type": "stream",
     "text": [
      "4613732\n"
     ]
    }
   ],
   "source": [
    "def sum_even_fibonacci(limit):\n",
    "    # Initialize variables\n",
    "    prev, current = 1, 2\n",
    "    even_sum = 0\n",
    "\n",
    "    # Generate Fibonacci numbers and sum the even ones\n",
    "    while current <= limit:\n",
    "        if current % 2 == 0:\n",
    "            even_sum += current\n",
    "\n",
    "        # Update Fibonacci numbers\n",
    "        prev, current = current, prev + current\n",
    "\n",
    "    return even_sum\n",
    "\n",
    "# Find the sum of even-valued terms in the Fibonacci sequence below 4 million\n",
    "result = sum_even_fibonacci(4000000)\n",
    "print(result)"
   ]
  },
  {
   "cell_type": "markdown",
   "metadata": {},
   "source": [
    "What is the largest prime factor of the number 600851475143"
   ]
  },
  {
   "cell_type": "code",
   "execution_count": 3,
   "metadata": {},
   "outputs": [
    {
     "name": "stdout",
     "output_type": "stream",
     "text": [
      "6857\n"
     ]
    }
   ],
   "source": [
    "import math\n",
    "\n",
    "def largest_prime_factor(n):\n",
    "    factor = 2\n",
    "\n",
    "    while factor <= math.sqrt(n):\n",
    "        if n % factor == 0:\n",
    "            n //= factor\n",
    "        else:\n",
    "            factor += 1\n",
    "\n",
    "    return n\n",
    "\n",
    "# Find the largest prime factor of 600851475143\n",
    "number = 600851475143\n",
    "result = largest_prime_factor(number)\n",
    "print(result)\n"
   ]
  },
  {
   "cell_type": "markdown",
   "metadata": {},
   "source": [
    "Find the largest palindrome made from the product of two 3-digit numbers"
   ]
  },
  {
   "cell_type": "code",
   "execution_count": 4,
   "metadata": {},
   "outputs": [
    {
     "name": "stdout",
     "output_type": "stream",
     "text": [
      "906609\n"
     ]
    }
   ],
   "source": [
    "def is_palindrome(number):\n",
    "    # Convert the number to a string and check if it reads the same backward\n",
    "    return str(number) == str(number)[::-1]\n",
    "\n",
    "def largest_palindrome_product():\n",
    "    largest_palindrome = 0\n",
    "\n",
    "    for i in range(100, 1000):\n",
    "        for j in range(100, 1000):\n",
    "            product = i * j\n",
    "\n",
    "            # Check if the product is a palindrome and greater than the current largest\n",
    "            if is_palindrome(product) and product > largest_palindrome:\n",
    "                largest_palindrome = product\n",
    "\n",
    "    return largest_palindrome\n",
    "\n",
    "# Find the largest palindrome made from the product of two 3-digit numbers\n",
    "result = largest_palindrome_product()\n",
    "print(result)\n"
   ]
  },
  {
   "cell_type": "code",
   "execution_count": 5,
   "metadata": {},
   "outputs": [
    {
     "name": "stdout",
     "output_type": "stream",
     "text": [
      "232792560\n"
     ]
    }
   ],
   "source": [
    "from math import gcd\n",
    "from functools import reduce\n",
    "\n",
    "def lcm(a, b):\n",
    "    return a * b // gcd(a, b)\n",
    "\n",
    "def smallest_multiple(limit):\n",
    "    return reduce(lcm, range(1, limit + 1))\n",
    "\n",
    "# Find the smallest positive number evenly divisible by all numbers from 1 to 20\n",
    "result = smallest_multiple(20)\n",
    "print(result)\n"
   ]
  }
 ],
 "metadata": {
  "kernelspec": {
   "display_name": "Python 3",
   "language": "python",
   "name": "python3"
  },
  "language_info": {
   "codemirror_mode": {
    "name": "ipython",
    "version": 3
   },
   "file_extension": ".py",
   "mimetype": "text/x-python",
   "name": "python",
   "nbconvert_exporter": "python",
   "pygments_lexer": "ipython3",
   "version": "3.8.10"
  }
 },
 "nbformat": 4,
 "nbformat_minor": 2
}
